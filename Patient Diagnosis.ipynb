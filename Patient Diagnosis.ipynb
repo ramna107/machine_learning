{
 "cells": [
  {
   "cell_type": "markdown",
   "metadata": {},
   "source": [
    "# Problem Statement: To define a patient's health status based on their diagnostic data"
   ]
  },
  {
   "cell_type": "markdown",
   "metadata": {},
   "source": [
    "# Import Libraries"
   ]
  },
  {
   "cell_type": "code",
   "execution_count": 1,
   "metadata": {},
   "outputs": [],
   "source": [
    "import pandas as pd\n",
    "import numpy as np\n",
    "import matplotlib.pyplot as plt\n",
    "%matplotlib inline\n",
    "import seaborn as sns"
   ]
  },
  {
   "cell_type": "markdown",
   "metadata": {},
   "source": [
    "# Read Diagnosis Data"
   ]
  },
  {
   "cell_type": "code",
   "execution_count": 2,
   "metadata": {},
   "outputs": [
    {
     "data": {
      "text/html": [
       "<div>\n",
       "<style scoped>\n",
       "    .dataframe tbody tr th:only-of-type {\n",
       "        vertical-align: middle;\n",
       "    }\n",
       "\n",
       "    .dataframe tbody tr th {\n",
       "        vertical-align: top;\n",
       "    }\n",
       "\n",
       "    .dataframe thead th {\n",
       "        text-align: right;\n",
       "    }\n",
       "</style>\n",
       "<table border=\"1\" class=\"dataframe\">\n",
       "  <thead>\n",
       "    <tr style=\"text-align: right;\">\n",
       "      <th></th>\n",
       "      <th>Patient_id</th>\n",
       "      <th>Diag_date</th>\n",
       "      <th>ICD10</th>\n",
       "    </tr>\n",
       "  </thead>\n",
       "  <tbody>\n",
       "    <tr>\n",
       "      <th>0</th>\n",
       "      <td>P00001</td>\n",
       "      <td>2015-12-06</td>\n",
       "      <td>N92.6</td>\n",
       "    </tr>\n",
       "    <tr>\n",
       "      <th>1</th>\n",
       "      <td>P00001</td>\n",
       "      <td>2015-12-06</td>\n",
       "      <td>O26.842</td>\n",
       "    </tr>\n",
       "    <tr>\n",
       "      <th>2</th>\n",
       "      <td>P00001</td>\n",
       "      <td>2015-12-13</td>\n",
       "      <td>O26.842</td>\n",
       "    </tr>\n",
       "    <tr>\n",
       "      <th>3</th>\n",
       "      <td>P00001</td>\n",
       "      <td>2016-02-29</td>\n",
       "      <td>O26.843</td>\n",
       "    </tr>\n",
       "    <tr>\n",
       "      <th>4</th>\n",
       "      <td>P00001</td>\n",
       "      <td>2016-03-27</td>\n",
       "      <td>O26.843</td>\n",
       "    </tr>\n",
       "  </tbody>\n",
       "</table>\n",
       "</div>"
      ],
      "text/plain": [
       "  Patient_id   Diag_date    ICD10\n",
       "0     P00001  2015-12-06    N92.6\n",
       "1     P00001  2015-12-06  O26.842\n",
       "2     P00001  2015-12-13  O26.842\n",
       "3     P00001  2016-02-29  O26.843\n",
       "4     P00001  2016-03-27  O26.843"
      ]
     },
     "execution_count": 2,
     "metadata": {},
     "output_type": "execute_result"
    }
   ],
   "source": [
    "df1 = pd.read_csv('Diagnosis.csv')\n",
    "df1.head()"
   ]
  },
  {
   "cell_type": "code",
   "execution_count": 3,
   "metadata": {},
   "outputs": [
    {
     "data": {
      "text/plain": [
       "(660092, 3)"
      ]
     },
     "execution_count": 3,
     "metadata": {},
     "output_type": "execute_result"
    }
   ],
   "source": [
    "df1.shape"
   ]
  },
  {
   "cell_type": "code",
   "execution_count": 4,
   "metadata": {},
   "outputs": [
    {
     "data": {
      "text/html": [
       "<div>\n",
       "<style scoped>\n",
       "    .dataframe tbody tr th:only-of-type {\n",
       "        vertical-align: middle;\n",
       "    }\n",
       "\n",
       "    .dataframe tbody tr th {\n",
       "        vertical-align: top;\n",
       "    }\n",
       "\n",
       "    .dataframe thead th {\n",
       "        text-align: right;\n",
       "    }\n",
       "</style>\n",
       "<table border=\"1\" class=\"dataframe\">\n",
       "  <thead>\n",
       "    <tr style=\"text-align: right;\">\n",
       "      <th></th>\n",
       "      <th>Patient_id</th>\n",
       "      <th>Diag_date</th>\n",
       "      <th>ICD10</th>\n",
       "    </tr>\n",
       "  </thead>\n",
       "  <tbody>\n",
       "    <tr>\n",
       "      <th>0</th>\n",
       "      <td>P00001</td>\n",
       "      <td>2015-12-06</td>\n",
       "      <td>N926</td>\n",
       "    </tr>\n",
       "    <tr>\n",
       "      <th>1</th>\n",
       "      <td>P00001</td>\n",
       "      <td>2015-12-06</td>\n",
       "      <td>O26842</td>\n",
       "    </tr>\n",
       "    <tr>\n",
       "      <th>2</th>\n",
       "      <td>P00001</td>\n",
       "      <td>2015-12-13</td>\n",
       "      <td>O26842</td>\n",
       "    </tr>\n",
       "    <tr>\n",
       "      <th>3</th>\n",
       "      <td>P00001</td>\n",
       "      <td>2016-02-29</td>\n",
       "      <td>O26843</td>\n",
       "    </tr>\n",
       "    <tr>\n",
       "      <th>4</th>\n",
       "      <td>P00001</td>\n",
       "      <td>2016-03-27</td>\n",
       "      <td>O26843</td>\n",
       "    </tr>\n",
       "  </tbody>\n",
       "</table>\n",
       "</div>"
      ],
      "text/plain": [
       "  Patient_id   Diag_date   ICD10\n",
       "0     P00001  2015-12-06    N926\n",
       "1     P00001  2015-12-06  O26842\n",
       "2     P00001  2015-12-13  O26842\n",
       "3     P00001  2016-02-29  O26843\n",
       "4     P00001  2016-03-27  O26843"
      ]
     },
     "execution_count": 4,
     "metadata": {},
     "output_type": "execute_result"
    }
   ],
   "source": [
    "char = \".\"\n",
    "func = lambda x: \"\".join(x for x in str(x.split()) if x not in char)\n",
    "df1['ICD10'] = df1['ICD10'].apply(func).str.replace(r'\\W','')\n",
    "df1.head()"
   ]
  },
  {
   "cell_type": "code",
   "execution_count": 5,
   "metadata": {},
   "outputs": [
    {
     "name": "stdout",
     "output_type": "stream",
     "text": [
      "84059\n"
     ]
    }
   ],
   "source": [
    "n = len(pd.unique(df1['Patient_id']))\n",
    "print(n)"
   ]
  },
  {
   "cell_type": "markdown",
   "metadata": {},
   "source": [
    "# Read CCS data"
   ]
  },
  {
   "cell_type": "code",
   "execution_count": 6,
   "metadata": {},
   "outputs": [
    {
     "data": {
      "text/html": [
       "<div>\n",
       "<style scoped>\n",
       "    .dataframe tbody tr th:only-of-type {\n",
       "        vertical-align: middle;\n",
       "    }\n",
       "\n",
       "    .dataframe tbody tr th {\n",
       "        vertical-align: top;\n",
       "    }\n",
       "\n",
       "    .dataframe thead th {\n",
       "        text-align: right;\n",
       "    }\n",
       "</style>\n",
       "<table border=\"1\" class=\"dataframe\">\n",
       "  <thead>\n",
       "    <tr style=\"text-align: right;\">\n",
       "      <th></th>\n",
       "      <th>diag</th>\n",
       "      <th>diag_desc</th>\n",
       "      <th>ccs_1_desc</th>\n",
       "      <th>ccs_2_desc</th>\n",
       "      <th>ccs_3_desc</th>\n",
       "    </tr>\n",
       "  </thead>\n",
       "  <tbody>\n",
       "    <tr>\n",
       "      <th>0</th>\n",
       "      <td>A000</td>\n",
       "      <td>Cholera due to Vibrio cholerae 01, biovar chol...</td>\n",
       "      <td>Diseases of the digestive system</td>\n",
       "      <td>Intestinal infection [135.]</td>\n",
       "      <td>Intestinal infection</td>\n",
       "    </tr>\n",
       "    <tr>\n",
       "      <th>1</th>\n",
       "      <td>A001</td>\n",
       "      <td>Cholera due to Vibrio cholerae 01, biovar eltor</td>\n",
       "      <td>Diseases of the digestive system</td>\n",
       "      <td>Intestinal infection [135.]</td>\n",
       "      <td>Intestinal infection</td>\n",
       "    </tr>\n",
       "    <tr>\n",
       "      <th>2</th>\n",
       "      <td>A009</td>\n",
       "      <td>Cholera, unspecified</td>\n",
       "      <td>Diseases of the digestive system</td>\n",
       "      <td>Intestinal infection [135.]</td>\n",
       "      <td>Intestinal infection</td>\n",
       "    </tr>\n",
       "    <tr>\n",
       "      <th>3</th>\n",
       "      <td>A0100</td>\n",
       "      <td>Typhoid fever, unspecified</td>\n",
       "      <td>Diseases of the digestive system</td>\n",
       "      <td>Intestinal infection [135.]</td>\n",
       "      <td>Intestinal infection</td>\n",
       "    </tr>\n",
       "    <tr>\n",
       "      <th>4</th>\n",
       "      <td>A0101</td>\n",
       "      <td>Typhoid meningitis</td>\n",
       "      <td>Diseases of the nervous system and sense organs</td>\n",
       "      <td>Central nervous system infection</td>\n",
       "      <td>Meningitis (except that caused by tuberculosis...</td>\n",
       "    </tr>\n",
       "  </tbody>\n",
       "</table>\n",
       "</div>"
      ],
      "text/plain": [
       "    diag                                          diag_desc  \\\n",
       "0   A000  Cholera due to Vibrio cholerae 01, biovar chol...   \n",
       "1   A001    Cholera due to Vibrio cholerae 01, biovar eltor   \n",
       "2   A009                               Cholera, unspecified   \n",
       "3  A0100                         Typhoid fever, unspecified   \n",
       "4  A0101                                 Typhoid meningitis   \n",
       "\n",
       "                                        ccs_1_desc  \\\n",
       "0                 Diseases of the digestive system   \n",
       "1                 Diseases of the digestive system   \n",
       "2                 Diseases of the digestive system   \n",
       "3                 Diseases of the digestive system   \n",
       "4  Diseases of the nervous system and sense organs   \n",
       "\n",
       "                         ccs_2_desc  \\\n",
       "0       Intestinal infection [135.]   \n",
       "1       Intestinal infection [135.]   \n",
       "2       Intestinal infection [135.]   \n",
       "3       Intestinal infection [135.]   \n",
       "4  Central nervous system infection   \n",
       "\n",
       "                                          ccs_3_desc  \n",
       "0                               Intestinal infection  \n",
       "1                               Intestinal infection  \n",
       "2                               Intestinal infection  \n",
       "3                               Intestinal infection  \n",
       "4  Meningitis (except that caused by tuberculosis...  "
      ]
     },
     "execution_count": 6,
     "metadata": {},
     "output_type": "execute_result"
    }
   ],
   "source": [
    "df2 = pd.read_csv('ccs.csv')\n",
    "df2.head()"
   ]
  },
  {
   "cell_type": "code",
   "execution_count": 7,
   "metadata": {},
   "outputs": [
    {
     "data": {
      "text/plain": [
       "(72167, 5)"
      ]
     },
     "execution_count": 7,
     "metadata": {},
     "output_type": "execute_result"
    }
   ],
   "source": [
    "df2.shape"
   ]
  },
  {
   "cell_type": "markdown",
   "metadata": {},
   "source": [
    "# Merge Diagnosis & CCS data"
   ]
  },
  {
   "cell_type": "code",
   "execution_count": 8,
   "metadata": {},
   "outputs": [
    {
     "data": {
      "text/html": [
       "<div>\n",
       "<style scoped>\n",
       "    .dataframe tbody tr th:only-of-type {\n",
       "        vertical-align: middle;\n",
       "    }\n",
       "\n",
       "    .dataframe tbody tr th {\n",
       "        vertical-align: top;\n",
       "    }\n",
       "\n",
       "    .dataframe thead th {\n",
       "        text-align: right;\n",
       "    }\n",
       "</style>\n",
       "<table border=\"1\" class=\"dataframe\">\n",
       "  <thead>\n",
       "    <tr style=\"text-align: right;\">\n",
       "      <th></th>\n",
       "      <th>Patient_id</th>\n",
       "      <th>Diag_date</th>\n",
       "      <th>ICD10</th>\n",
       "      <th>diag</th>\n",
       "      <th>diag_desc</th>\n",
       "      <th>ccs_1_desc</th>\n",
       "      <th>ccs_2_desc</th>\n",
       "      <th>ccs_3_desc</th>\n",
       "    </tr>\n",
       "  </thead>\n",
       "  <tbody>\n",
       "    <tr>\n",
       "      <th>0</th>\n",
       "      <td>P00001</td>\n",
       "      <td>2015-12-06</td>\n",
       "      <td>N926</td>\n",
       "      <td>N926</td>\n",
       "      <td>Irregular menstruation, unspecified</td>\n",
       "      <td>Diseases of the genitourinary system</td>\n",
       "      <td>Diseases of female genital organs</td>\n",
       "      <td>Menstrual disorders</td>\n",
       "    </tr>\n",
       "    <tr>\n",
       "      <th>1</th>\n",
       "      <td>P00001</td>\n",
       "      <td>2015-12-06</td>\n",
       "      <td>O26842</td>\n",
       "      <td>O26842</td>\n",
       "      <td>Uterine size-date discrepancy, second trimester</td>\n",
       "      <td>Complications of pregnancy; childbirth; and th...</td>\n",
       "      <td>Complications mainly related to pregnancy</td>\n",
       "      <td>Other complications of pregnancy</td>\n",
       "    </tr>\n",
       "    <tr>\n",
       "      <th>2</th>\n",
       "      <td>P00001</td>\n",
       "      <td>2015-12-13</td>\n",
       "      <td>O26842</td>\n",
       "      <td>O26842</td>\n",
       "      <td>Uterine size-date discrepancy, second trimester</td>\n",
       "      <td>Complications of pregnancy; childbirth; and th...</td>\n",
       "      <td>Complications mainly related to pregnancy</td>\n",
       "      <td>Other complications of pregnancy</td>\n",
       "    </tr>\n",
       "    <tr>\n",
       "      <th>3</th>\n",
       "      <td>P00001</td>\n",
       "      <td>2016-02-29</td>\n",
       "      <td>O26843</td>\n",
       "      <td>O26843</td>\n",
       "      <td>Uterine size-date discrepancy, third trimester</td>\n",
       "      <td>Complications of pregnancy; childbirth; and th...</td>\n",
       "      <td>Complications mainly related to pregnancy</td>\n",
       "      <td>Other complications of pregnancy</td>\n",
       "    </tr>\n",
       "    <tr>\n",
       "      <th>4</th>\n",
       "      <td>P00001</td>\n",
       "      <td>2016-03-27</td>\n",
       "      <td>O26843</td>\n",
       "      <td>O26843</td>\n",
       "      <td>Uterine size-date discrepancy, third trimester</td>\n",
       "      <td>Complications of pregnancy; childbirth; and th...</td>\n",
       "      <td>Complications mainly related to pregnancy</td>\n",
       "      <td>Other complications of pregnancy</td>\n",
       "    </tr>\n",
       "  </tbody>\n",
       "</table>\n",
       "</div>"
      ],
      "text/plain": [
       "  Patient_id   Diag_date   ICD10    diag  \\\n",
       "0     P00001  2015-12-06    N926    N926   \n",
       "1     P00001  2015-12-06  O26842  O26842   \n",
       "2     P00001  2015-12-13  O26842  O26842   \n",
       "3     P00001  2016-02-29  O26843  O26843   \n",
       "4     P00001  2016-03-27  O26843  O26843   \n",
       "\n",
       "                                         diag_desc  \\\n",
       "0              Irregular menstruation, unspecified   \n",
       "1  Uterine size-date discrepancy, second trimester   \n",
       "2  Uterine size-date discrepancy, second trimester   \n",
       "3   Uterine size-date discrepancy, third trimester   \n",
       "4   Uterine size-date discrepancy, third trimester   \n",
       "\n",
       "                                          ccs_1_desc  \\\n",
       "0               Diseases of the genitourinary system   \n",
       "1  Complications of pregnancy; childbirth; and th...   \n",
       "2  Complications of pregnancy; childbirth; and th...   \n",
       "3  Complications of pregnancy; childbirth; and th...   \n",
       "4  Complications of pregnancy; childbirth; and th...   \n",
       "\n",
       "                                  ccs_2_desc                        ccs_3_desc  \n",
       "0          Diseases of female genital organs               Menstrual disorders  \n",
       "1  Complications mainly related to pregnancy  Other complications of pregnancy  \n",
       "2  Complications mainly related to pregnancy  Other complications of pregnancy  \n",
       "3  Complications mainly related to pregnancy  Other complications of pregnancy  \n",
       "4  Complications mainly related to pregnancy  Other complications of pregnancy  "
      ]
     },
     "execution_count": 8,
     "metadata": {},
     "output_type": "execute_result"
    }
   ],
   "source": [
    "df3 = pd.merge(df1, df2, left_on=['ICD10'], right_on=['diag'], how = 'left')\n",
    "df3.head()"
   ]
  },
  {
   "cell_type": "code",
   "execution_count": 9,
   "metadata": {},
   "outputs": [
    {
     "data": {
      "text/plain": [
       "(660092, 8)"
      ]
     },
     "execution_count": 9,
     "metadata": {},
     "output_type": "execute_result"
    }
   ],
   "source": [
    "df3.shape"
   ]
  },
  {
   "cell_type": "markdown",
   "metadata": {},
   "source": [
    "# Check for missing values"
   ]
  },
  {
   "cell_type": "code",
   "execution_count": 10,
   "metadata": {},
   "outputs": [
    {
     "data": {
      "text/html": [
       "<div>\n",
       "<style scoped>\n",
       "    .dataframe tbody tr th:only-of-type {\n",
       "        vertical-align: middle;\n",
       "    }\n",
       "\n",
       "    .dataframe tbody tr th {\n",
       "        vertical-align: top;\n",
       "    }\n",
       "\n",
       "    .dataframe thead th {\n",
       "        text-align: right;\n",
       "    }\n",
       "</style>\n",
       "<table border=\"1\" class=\"dataframe\">\n",
       "  <thead>\n",
       "    <tr style=\"text-align: right;\">\n",
       "      <th></th>\n",
       "      <th>Patient_id</th>\n",
       "      <th>Diag_date</th>\n",
       "      <th>ICD10</th>\n",
       "      <th>diag</th>\n",
       "      <th>diag_desc</th>\n",
       "      <th>ccs_1_desc</th>\n",
       "      <th>ccs_2_desc</th>\n",
       "      <th>ccs_3_desc</th>\n",
       "    </tr>\n",
       "  </thead>\n",
       "  <tbody>\n",
       "    <tr>\n",
       "      <th>False</th>\n",
       "      <td>660092.0</td>\n",
       "      <td>660086</td>\n",
       "      <td>660092.0</td>\n",
       "      <td>659337</td>\n",
       "      <td>659337</td>\n",
       "      <td>659337</td>\n",
       "      <td>659337</td>\n",
       "      <td>659337</td>\n",
       "    </tr>\n",
       "    <tr>\n",
       "      <th>True</th>\n",
       "      <td>NaN</td>\n",
       "      <td>6</td>\n",
       "      <td>NaN</td>\n",
       "      <td>755</td>\n",
       "      <td>755</td>\n",
       "      <td>755</td>\n",
       "      <td>755</td>\n",
       "      <td>755</td>\n",
       "    </tr>\n",
       "  </tbody>\n",
       "</table>\n",
       "</div>"
      ],
      "text/plain": [
       "       Patient_id  Diag_date     ICD10    diag  diag_desc  ccs_1_desc  \\\n",
       "False    660092.0     660086  660092.0  659337     659337      659337   \n",
       "True          NaN          6       NaN     755        755         755   \n",
       "\n",
       "       ccs_2_desc  ccs_3_desc  \n",
       "False      659337      659337  \n",
       "True          755         755  "
      ]
     },
     "execution_count": 10,
     "metadata": {},
     "output_type": "execute_result"
    }
   ],
   "source": [
    "df3.isnull().apply(pd.value_counts)"
   ]
  },
  {
   "cell_type": "code",
   "execution_count": 11,
   "metadata": {},
   "outputs": [],
   "source": [
    "df3 = df3.fillna(0)\n",
    "df3 = df3.drop_duplicates(['Patient_id', 'ICD10'])"
   ]
  },
  {
   "cell_type": "markdown",
   "metadata": {},
   "source": [
    "# Most common diagnosis (ICD code) "
   ]
  },
  {
   "cell_type": "code",
   "execution_count": 12,
   "metadata": {},
   "outputs": [
    {
     "data": {
      "text/html": [
       "<div>\n",
       "<style scoped>\n",
       "    .dataframe tbody tr th:only-of-type {\n",
       "        vertical-align: middle;\n",
       "    }\n",
       "\n",
       "    .dataframe tbody tr th {\n",
       "        vertical-align: top;\n",
       "    }\n",
       "\n",
       "    .dataframe thead th {\n",
       "        text-align: right;\n",
       "    }\n",
       "</style>\n",
       "<table border=\"1\" class=\"dataframe\">\n",
       "  <thead>\n",
       "    <tr style=\"text-align: right;\">\n",
       "      <th></th>\n",
       "      <th>ICD10</th>\n",
       "      <th>Patient_id</th>\n",
       "      <th>Diag_date</th>\n",
       "      <th>diag</th>\n",
       "      <th>diag_desc</th>\n",
       "      <th>ccs_1_desc</th>\n",
       "      <th>ccs_2_desc</th>\n",
       "      <th>ccs_3_desc</th>\n",
       "    </tr>\n",
       "  </thead>\n",
       "  <tbody>\n",
       "    <tr>\n",
       "      <th>0</th>\n",
       "      <td>Z0000</td>\n",
       "      <td>20248</td>\n",
       "      <td>20248</td>\n",
       "      <td>20248</td>\n",
       "      <td>20248</td>\n",
       "      <td>20248</td>\n",
       "      <td>20248</td>\n",
       "      <td>20248</td>\n",
       "    </tr>\n",
       "    <tr>\n",
       "      <th>1</th>\n",
       "      <td>Z01419</td>\n",
       "      <td>11046</td>\n",
       "      <td>11046</td>\n",
       "      <td>11046</td>\n",
       "      <td>11046</td>\n",
       "      <td>11046</td>\n",
       "      <td>11046</td>\n",
       "      <td>11046</td>\n",
       "    </tr>\n",
       "    <tr>\n",
       "      <th>2</th>\n",
       "      <td>Z1231</td>\n",
       "      <td>7711</td>\n",
       "      <td>7711</td>\n",
       "      <td>7711</td>\n",
       "      <td>7711</td>\n",
       "      <td>7711</td>\n",
       "      <td>7711</td>\n",
       "      <td>7711</td>\n",
       "    </tr>\n",
       "    <tr>\n",
       "      <th>3</th>\n",
       "      <td>I10</td>\n",
       "      <td>7570</td>\n",
       "      <td>7570</td>\n",
       "      <td>7570</td>\n",
       "      <td>7570</td>\n",
       "      <td>7570</td>\n",
       "      <td>7570</td>\n",
       "      <td>7570</td>\n",
       "    </tr>\n",
       "    <tr>\n",
       "      <th>4</th>\n",
       "      <td>J069</td>\n",
       "      <td>6438</td>\n",
       "      <td>6438</td>\n",
       "      <td>6438</td>\n",
       "      <td>6438</td>\n",
       "      <td>6438</td>\n",
       "      <td>6438</td>\n",
       "      <td>6438</td>\n",
       "    </tr>\n",
       "  </tbody>\n",
       "</table>\n",
       "</div>"
      ],
      "text/plain": [
       "    ICD10  Patient_id  Diag_date   diag  diag_desc  ccs_1_desc  ccs_2_desc  \\\n",
       "0   Z0000       20248      20248  20248      20248       20248       20248   \n",
       "1  Z01419       11046      11046  11046      11046       11046       11046   \n",
       "2   Z1231        7711       7711   7711       7711        7711        7711   \n",
       "3     I10        7570       7570   7570       7570        7570        7570   \n",
       "4    J069        6438       6438   6438       6438        6438        6438   \n",
       "\n",
       "   ccs_3_desc  \n",
       "0       20248  \n",
       "1       11046  \n",
       "2        7711  \n",
       "3        7570  \n",
       "4        6438  "
      ]
     },
     "execution_count": 12,
     "metadata": {},
     "output_type": "execute_result"
    }
   ],
   "source": [
    "df4 = df3.groupby('ICD10').count().sort_values(by = 'Patient_id', ascending=False)\n",
    "df4=df4.reset_index()\n",
    "df4.head()"
   ]
  },
  {
   "cell_type": "code",
   "execution_count": 13,
   "metadata": {},
   "outputs": [
    {
     "data": {
      "image/png": "[encoded data removed]",
      "text/plain": [
       "<Figure size 720x360 with 1 Axes>"
      ]
     },
     "metadata": {
      "needs_background": "light"
     },
     "output_type": "display_data"
    }
   ],
   "source": [
    "plt.figure(figsize=(10,5))\n",
    "\n",
    "ICD10 = df4['ICD10'].tolist()[:20]\n",
    "Patients = df4['Patient_id'].tolist()[:20]\n",
    "\n",
    "plt.bar(ICD10, Patients, width=0.5)\n",
    "\n",
    "plt.xlabel('ICD10')\n",
    "plt.ylabel('Number of Patients')\n",
    "plt.title('Top 20 most common diagnosis')\n",
    "\n",
    "plt.xticks(ICD10, rotation=45)\n",
    "plt.grid(True, linewidth = 1, linestyle='--')\n"
   ]
  },
  {
   "cell_type": "code",
   "execution_count": 14,
   "metadata": {},
   "outputs": [
    {
     "data": {
      "text/html": [
       "<div>\n",
       "<style scoped>\n",
       "    .dataframe tbody tr th:only-of-type {\n",
       "        vertical-align: middle;\n",
       "    }\n",
       "\n",
       "    .dataframe tbody tr th {\n",
       "        vertical-align: top;\n",
       "    }\n",
       "\n",
       "    .dataframe thead th {\n",
       "        text-align: right;\n",
       "    }\n",
       "</style>\n",
       "<table border=\"1\" class=\"dataframe\">\n",
       "  <thead>\n",
       "    <tr style=\"text-align: right;\">\n",
       "      <th></th>\n",
       "      <th>diag</th>\n",
       "      <th>diag_desc</th>\n",
       "      <th>ccs_1_desc</th>\n",
       "      <th>ccs_2_desc</th>\n",
       "      <th>ccs_3_desc</th>\n",
       "    </tr>\n",
       "  </thead>\n",
       "  <tbody>\n",
       "    <tr>\n",
       "      <th>70922</th>\n",
       "      <td>Z0000</td>\n",
       "      <td>Encntr for general adult medical exam w/o abno...</td>\n",
       "      <td>Symptoms; signs; and ill-defined conditions an...</td>\n",
       "      <td>Factors influencing health care</td>\n",
       "      <td>Medical examination/evaluation</td>\n",
       "    </tr>\n",
       "  </tbody>\n",
       "</table>\n",
       "</div>"
      ],
      "text/plain": [
       "        diag                                          diag_desc  \\\n",
       "70922  Z0000  Encntr for general adult medical exam w/o abno...   \n",
       "\n",
       "                                              ccs_1_desc  \\\n",
       "70922  Symptoms; signs; and ill-defined conditions an...   \n",
       "\n",
       "                            ccs_2_desc                      ccs_3_desc  \n",
       "70922  Factors influencing health care  Medical examination/evaluation  "
      ]
     },
     "execution_count": 14,
     "metadata": {},
     "output_type": "execute_result"
    }
   ],
   "source": [
    "df2.loc[df2['diag']=='Z0000']"
   ]
  },
  {
   "cell_type": "markdown",
   "metadata": {},
   "source": [
    "# Patient health status"
   ]
  },
  {
   "cell_type": "code",
   "execution_count": 18,
   "metadata": {},
   "outputs": [
    {
     "name": "stdout",
     "output_type": "stream",
     "text": [
      "Enter Patient id between P00001-P99997:P12333\n",
      "Patient P12333 has:\n",
      "- Neoplasms\n",
      "- Mental Illness\n",
      "- Symptoms; signs; and ill-defined conditions and factors influencing health status\n"
     ]
    }
   ],
   "source": [
    "pat_id = str(input('Enter Patient id between P00001-P99997:'))\n",
    "\n",
    "if any(df3['Patient_id'] == pat_id):\n",
    "    icd_code = ((df3.loc[df3['Patient_id']== pat_id])['ICD10'].values).tolist() \n",
    "    ccs_3 = ((df3.loc[df3['Patient_id']== pat_id])['ccs_1_desc'].values).tolist()\n",
    "    out = list(zip(icd_code,ccs_3))\n",
    "    #print(out)        \n",
    "    icd10 =[]\n",
    "    diag = []\n",
    "\n",
    "    for x,y in out: \n",
    "        if y != 0:\n",
    "            diag.append(y)\n",
    "        else:\n",
    "            icd10.append(x)    \n",
    " \n",
    "    if len(diag)!=0:\n",
    "        print (\"Patient %s has:\" % pat_id)\n",
    "        diag = list(set(diag))\n",
    "        for i in diag:\n",
    "            print ('-',i)        \n",
    "        \n",
    "    if len(icd10)!=0: \n",
    "        print (\"However, some ICD10 codes do not have CCS codes:\", ic10)\n",
    "        \n",
    "else:\n",
    "        print (\"Patient ID not found\")     \n",
    "\n"
   ]
  },
  {
   "cell_type": "code",
   "execution_count": null,
   "metadata": {},
   "outputs": [],
   "source": []
  },
  {
   "cell_type": "code",
   "execution_count": null,
   "metadata": {},
   "outputs": [],
   "source": []
  }
 ],
 "metadata": {
  "kernelspec": {
   "display_name": "Python 3 (ipykernel)",
   "language": "python",
   "name": "python3"
  },
  "language_info": {
   "codemirror_mode": {
    "name": "ipython",
    "version": 3
   },
   "file_extension": ".py",
   "mimetype": "text/x-python",
   "name": "python",
   "nbconvert_exporter": "python",
   "pygments_lexer": "ipython3",
   "version": "3.7.12"
  }
 },
 "nbformat": 4,
 "nbformat_minor": 4
}
